{
  "nbformat": 4,
  "nbformat_minor": 0,
  "metadata": {
    "colab": {
      "provenance": [],
      "gpuType": "T4"
    },
    "kernelspec": {
      "name": "python3",
      "display_name": "Python 3"
    },
    "language_info": {
      "name": "python"
    },
    "accelerator": "GPU"
  },
  "cells": [
    {
      "cell_type": "markdown",
      "source": [
        "# Get the DataSet"
      ],
      "metadata": {
        "id": "FDQ8_uTfZ__E"
      }
    },
    {
      "cell_type": "code",
      "execution_count": null,
      "metadata": {
        "colab": {
          "base_uri": "https://localhost:8080/",
          "height": 363
        },
        "id": "H-xTyG0zZlPk",
        "outputId": "87529a09-4818-4ffa-8b2c-3ddc205c4e7b"
      },
      "outputs": [
        {
          "output_type": "execute_result",
          "data": {
            "text/plain": [
              "                                                  review sentiment\n",
              "11503  This is the most boring, pretentious, and stup...  negative\n",
              "13934  That's right, you heard me. I am a huge fan of...  negative\n",
              "32191  Lloyd Bridges as Mike Nelson and his boat were...  positive\n",
              "7      This show was an amazing, fresh & innovative i...  negative\n",
              "40014  James Cagney, racketeer and political ward hee...  positive\n",
              "31413  That was great fun! I never read those Chester...  positive\n",
              "40148  There are moments in the film that are so drea...  positive\n",
              "34167  A bit quirky and bordering bad taste; but inte...  positive\n",
              "8597   Dark Rising is your typical bad, obviously qui...  negative\n",
              "31820  This was a pathetic movie. The Alien was decen...  negative"
            ],
            "text/html": [
              "\n",
              "  <div id=\"df-32c25fea-68e7-48fa-bce8-112e5fb60c88\" class=\"colab-df-container\">\n",
              "    <div>\n",
              "<style scoped>\n",
              "    .dataframe tbody tr th:only-of-type {\n",
              "        vertical-align: middle;\n",
              "    }\n",
              "\n",
              "    .dataframe tbody tr th {\n",
              "        vertical-align: top;\n",
              "    }\n",
              "\n",
              "    .dataframe thead th {\n",
              "        text-align: right;\n",
              "    }\n",
              "</style>\n",
              "<table border=\"1\" class=\"dataframe\">\n",
              "  <thead>\n",
              "    <tr style=\"text-align: right;\">\n",
              "      <th></th>\n",
              "      <th>review</th>\n",
              "      <th>sentiment</th>\n",
              "    </tr>\n",
              "  </thead>\n",
              "  <tbody>\n",
              "    <tr>\n",
              "      <th>11503</th>\n",
              "      <td>This is the most boring, pretentious, and stup...</td>\n",
              "      <td>negative</td>\n",
              "    </tr>\n",
              "    <tr>\n",
              "      <th>13934</th>\n",
              "      <td>That's right, you heard me. I am a huge fan of...</td>\n",
              "      <td>negative</td>\n",
              "    </tr>\n",
              "    <tr>\n",
              "      <th>32191</th>\n",
              "      <td>Lloyd Bridges as Mike Nelson and his boat were...</td>\n",
              "      <td>positive</td>\n",
              "    </tr>\n",
              "    <tr>\n",
              "      <th>7</th>\n",
              "      <td>This show was an amazing, fresh &amp; innovative i...</td>\n",
              "      <td>negative</td>\n",
              "    </tr>\n",
              "    <tr>\n",
              "      <th>40014</th>\n",
              "      <td>James Cagney, racketeer and political ward hee...</td>\n",
              "      <td>positive</td>\n",
              "    </tr>\n",
              "    <tr>\n",
              "      <th>31413</th>\n",
              "      <td>That was great fun! I never read those Chester...</td>\n",
              "      <td>positive</td>\n",
              "    </tr>\n",
              "    <tr>\n",
              "      <th>40148</th>\n",
              "      <td>There are moments in the film that are so drea...</td>\n",
              "      <td>positive</td>\n",
              "    </tr>\n",
              "    <tr>\n",
              "      <th>34167</th>\n",
              "      <td>A bit quirky and bordering bad taste; but inte...</td>\n",
              "      <td>positive</td>\n",
              "    </tr>\n",
              "    <tr>\n",
              "      <th>8597</th>\n",
              "      <td>Dark Rising is your typical bad, obviously qui...</td>\n",
              "      <td>negative</td>\n",
              "    </tr>\n",
              "    <tr>\n",
              "      <th>31820</th>\n",
              "      <td>This was a pathetic movie. The Alien was decen...</td>\n",
              "      <td>negative</td>\n",
              "    </tr>\n",
              "  </tbody>\n",
              "</table>\n",
              "</div>\n",
              "    <div class=\"colab-df-buttons\">\n",
              "\n",
              "  <div class=\"colab-df-container\">\n",
              "    <button class=\"colab-df-convert\" onclick=\"convertToInteractive('df-32c25fea-68e7-48fa-bce8-112e5fb60c88')\"\n",
              "            title=\"Convert this dataframe to an interactive table.\"\n",
              "            style=\"display:none;\">\n",
              "\n",
              "  <svg xmlns=\"http://www.w3.org/2000/svg\" height=\"24px\" viewBox=\"0 -960 960 960\">\n",
              "    <path d=\"M120-120v-720h720v720H120Zm60-500h600v-160H180v160Zm220 220h160v-160H400v160Zm0 220h160v-160H400v160ZM180-400h160v-160H180v160Zm440 0h160v-160H620v160ZM180-180h160v-160H180v160Zm440 0h160v-160H620v160Z\"/>\n",
              "  </svg>\n",
              "    </button>\n",
              "\n",
              "  <style>\n",
              "    .colab-df-container {\n",
              "      display:flex;\n",
              "      gap: 12px;\n",
              "    }\n",
              "\n",
              "    .colab-df-convert {\n",
              "      background-color: #E8F0FE;\n",
              "      border: none;\n",
              "      border-radius: 50%;\n",
              "      cursor: pointer;\n",
              "      display: none;\n",
              "      fill: #1967D2;\n",
              "      height: 32px;\n",
              "      padding: 0 0 0 0;\n",
              "      width: 32px;\n",
              "    }\n",
              "\n",
              "    .colab-df-convert:hover {\n",
              "      background-color: #E2EBFA;\n",
              "      box-shadow: 0px 1px 2px rgba(60, 64, 67, 0.3), 0px 1px 3px 1px rgba(60, 64, 67, 0.15);\n",
              "      fill: #174EA6;\n",
              "    }\n",
              "\n",
              "    .colab-df-buttons div {\n",
              "      margin-bottom: 4px;\n",
              "    }\n",
              "\n",
              "    [theme=dark] .colab-df-convert {\n",
              "      background-color: #3B4455;\n",
              "      fill: #D2E3FC;\n",
              "    }\n",
              "\n",
              "    [theme=dark] .colab-df-convert:hover {\n",
              "      background-color: #434B5C;\n",
              "      box-shadow: 0px 1px 3px 1px rgba(0, 0, 0, 0.15);\n",
              "      filter: drop-shadow(0px 1px 2px rgba(0, 0, 0, 0.3));\n",
              "      fill: #FFFFFF;\n",
              "    }\n",
              "  </style>\n",
              "\n",
              "    <script>\n",
              "      const buttonEl =\n",
              "        document.querySelector('#df-32c25fea-68e7-48fa-bce8-112e5fb60c88 button.colab-df-convert');\n",
              "      buttonEl.style.display =\n",
              "        google.colab.kernel.accessAllowed ? 'block' : 'none';\n",
              "\n",
              "      async function convertToInteractive(key) {\n",
              "        const element = document.querySelector('#df-32c25fea-68e7-48fa-bce8-112e5fb60c88');\n",
              "        const dataTable =\n",
              "          await google.colab.kernel.invokeFunction('convertToInteractive',\n",
              "                                                    [key], {});\n",
              "        if (!dataTable) return;\n",
              "\n",
              "        const docLinkHtml = 'Like what you see? Visit the ' +\n",
              "          '<a target=\"_blank\" href=https://colab.research.google.com/notebooks/data_table.ipynb>data table notebook</a>'\n",
              "          + ' to learn more about interactive tables.';\n",
              "        element.innerHTML = '';\n",
              "        dataTable['output_type'] = 'display_data';\n",
              "        await google.colab.output.renderOutput(dataTable, element);\n",
              "        const docLink = document.createElement('div');\n",
              "        docLink.innerHTML = docLinkHtml;\n",
              "        element.appendChild(docLink);\n",
              "      }\n",
              "    </script>\n",
              "  </div>\n",
              "\n",
              "\n",
              "<div id=\"df-19664ce6-2245-4793-a9cf-b760fcbfc8d8\">\n",
              "  <button class=\"colab-df-quickchart\" onclick=\"quickchart('df-19664ce6-2245-4793-a9cf-b760fcbfc8d8')\"\n",
              "            title=\"Suggest charts\"\n",
              "            style=\"display:none;\">\n",
              "\n",
              "<svg xmlns=\"http://www.w3.org/2000/svg\" height=\"24px\"viewBox=\"0 0 24 24\"\n",
              "     width=\"24px\">\n",
              "    <g>\n",
              "        <path d=\"M19 3H5c-1.1 0-2 .9-2 2v14c0 1.1.9 2 2 2h14c1.1 0 2-.9 2-2V5c0-1.1-.9-2-2-2zM9 17H7v-7h2v7zm4 0h-2V7h2v10zm4 0h-2v-4h2v4z\"/>\n",
              "    </g>\n",
              "</svg>\n",
              "  </button>\n",
              "\n",
              "<style>\n",
              "  .colab-df-quickchart {\n",
              "      --bg-color: #E8F0FE;\n",
              "      --fill-color: #1967D2;\n",
              "      --hover-bg-color: #E2EBFA;\n",
              "      --hover-fill-color: #174EA6;\n",
              "      --disabled-fill-color: #AAA;\n",
              "      --disabled-bg-color: #DDD;\n",
              "  }\n",
              "\n",
              "  [theme=dark] .colab-df-quickchart {\n",
              "      --bg-color: #3B4455;\n",
              "      --fill-color: #D2E3FC;\n",
              "      --hover-bg-color: #434B5C;\n",
              "      --hover-fill-color: #FFFFFF;\n",
              "      --disabled-bg-color: #3B4455;\n",
              "      --disabled-fill-color: #666;\n",
              "  }\n",
              "\n",
              "  .colab-df-quickchart {\n",
              "    background-color: var(--bg-color);\n",
              "    border: none;\n",
              "    border-radius: 50%;\n",
              "    cursor: pointer;\n",
              "    display: none;\n",
              "    fill: var(--fill-color);\n",
              "    height: 32px;\n",
              "    padding: 0;\n",
              "    width: 32px;\n",
              "  }\n",
              "\n",
              "  .colab-df-quickchart:hover {\n",
              "    background-color: var(--hover-bg-color);\n",
              "    box-shadow: 0 1px 2px rgba(60, 64, 67, 0.3), 0 1px 3px 1px rgba(60, 64, 67, 0.15);\n",
              "    fill: var(--button-hover-fill-color);\n",
              "  }\n",
              "\n",
              "  .colab-df-quickchart-complete:disabled,\n",
              "  .colab-df-quickchart-complete:disabled:hover {\n",
              "    background-color: var(--disabled-bg-color);\n",
              "    fill: var(--disabled-fill-color);\n",
              "    box-shadow: none;\n",
              "  }\n",
              "\n",
              "  .colab-df-spinner {\n",
              "    border: 2px solid var(--fill-color);\n",
              "    border-color: transparent;\n",
              "    border-bottom-color: var(--fill-color);\n",
              "    animation:\n",
              "      spin 1s steps(1) infinite;\n",
              "  }\n",
              "\n",
              "  @keyframes spin {\n",
              "    0% {\n",
              "      border-color: transparent;\n",
              "      border-bottom-color: var(--fill-color);\n",
              "      border-left-color: var(--fill-color);\n",
              "    }\n",
              "    20% {\n",
              "      border-color: transparent;\n",
              "      border-left-color: var(--fill-color);\n",
              "      border-top-color: var(--fill-color);\n",
              "    }\n",
              "    30% {\n",
              "      border-color: transparent;\n",
              "      border-left-color: var(--fill-color);\n",
              "      border-top-color: var(--fill-color);\n",
              "      border-right-color: var(--fill-color);\n",
              "    }\n",
              "    40% {\n",
              "      border-color: transparent;\n",
              "      border-right-color: var(--fill-color);\n",
              "      border-top-color: var(--fill-color);\n",
              "    }\n",
              "    60% {\n",
              "      border-color: transparent;\n",
              "      border-right-color: var(--fill-color);\n",
              "    }\n",
              "    80% {\n",
              "      border-color: transparent;\n",
              "      border-right-color: var(--fill-color);\n",
              "      border-bottom-color: var(--fill-color);\n",
              "    }\n",
              "    90% {\n",
              "      border-color: transparent;\n",
              "      border-bottom-color: var(--fill-color);\n",
              "    }\n",
              "  }\n",
              "</style>\n",
              "\n",
              "  <script>\n",
              "    async function quickchart(key) {\n",
              "      const quickchartButtonEl =\n",
              "        document.querySelector('#' + key + ' button');\n",
              "      quickchartButtonEl.disabled = true;  // To prevent multiple clicks.\n",
              "      quickchartButtonEl.classList.add('colab-df-spinner');\n",
              "      try {\n",
              "        const charts = await google.colab.kernel.invokeFunction(\n",
              "            'suggestCharts', [key], {});\n",
              "      } catch (error) {\n",
              "        console.error('Error during call to suggestCharts:', error);\n",
              "      }\n",
              "      quickchartButtonEl.classList.remove('colab-df-spinner');\n",
              "      quickchartButtonEl.classList.add('colab-df-quickchart-complete');\n",
              "    }\n",
              "    (() => {\n",
              "      let quickchartButtonEl =\n",
              "        document.querySelector('#df-19664ce6-2245-4793-a9cf-b760fcbfc8d8 button');\n",
              "      quickchartButtonEl.style.display =\n",
              "        google.colab.kernel.accessAllowed ? 'block' : 'none';\n",
              "    })();\n",
              "  </script>\n",
              "</div>\n",
              "\n",
              "    </div>\n",
              "  </div>\n"
            ],
            "application/vnd.google.colaboratory.intrinsic+json": {
              "type": "dataframe",
              "summary": "{\n  \"name\": \"df_all_data\",\n  \"rows\": 10,\n  \"fields\": [\n    {\n      \"column\": \"review\",\n      \"properties\": {\n        \"dtype\": \"string\",\n        \"num_unique_values\": 10,\n        \"samples\": [\n          \"Dark Rising is your typical bad, obviously quickly produced horror/sci-fi/fantasy movie. It has a strange, unexplained plot with holes so big you could fit an elephant through them. Most of the time I didn't know what the hell was going on but it didn't really matter, it was a simple demon hunter returns from hell dimension to save campers story with confusing stuff added on about witches and a book of evil with plot elements and characters who make no sense or disappear totally for no reason. The acting is bad but there honestly is not much they can do with this script I am guessing. There is a couple topless scenes which is probably the only reason this bad movie got made (like so many other bad movies). Give this one a pass unless there is nothing else on T.V.\",\n          \"That's right, you heard me. I am a huge fan of James Patterson. I own 10 of his books, and I have read the entire series about Lindsey Boxer. In my opinion, the screenwriter should be shot. <br /><br />What right did any film maker have to slaughter a terrific work of fiction and make it into a mockery of the mystery genre? If I ever thought that Harry Potter was butchered, then Michael O'Hara has proved me wrong. <br /><br />I can only pray that the next screenwriter who tackles this fabulous book will do it a great deal more justice. To Michael O'Hara and Russell Mulcahy: don't quit your day job.\",\n          \"That was great fun! I never read those Chester-Gould-comics but it's not necessary to know them. Maybe there were some inside jokes I didn't figure out but what the eye doesn't see the heart cannot grieve over. This is such an ironic, colourful film and the actors are good-humoured all together. The setting is similar to that in the \\u0084Batman` movies, but not as dark and grey. Okay, the story is not so original but there is a plot (which is not self-evident) and a more or less surprising ending.<br /><br />With this movie, you could play an interesting game, if you watch it with friends. Don't watch the credits at the beginning and then look who's the fastest to find out who are the famous actors under their make-up!\"\n        ],\n        \"semantic_type\": \"\",\n        \"description\": \"\"\n      }\n    },\n    {\n      \"column\": \"sentiment\",\n      \"properties\": {\n        \"dtype\": \"category\",\n        \"num_unique_values\": 2,\n        \"samples\": [\n          \"positive\",\n          \"negative\"\n        ],\n        \"semantic_type\": \"\",\n        \"description\": \"\"\n      }\n    }\n  ]\n}"
            }
          },
          "metadata": {},
          "execution_count": 1
        }
      ],
      "source": [
        "import pandas as pd\n",
        "\n",
        "df_all_data = pd.read_csv('https://raw.githubusercontent.com/mphammer/HammerData/main/IMDB/IMDB%20Dataset.csv')\n",
        "\n",
        "df_all_data.sample(10)"
      ]
    },
    {
      "cell_type": "markdown",
      "source": [
        "# Split Train and Test Data\n",
        "\n",
        "I read that it's good to split your data early so that you don't look at your Test Data too much and unconsciously learn patterns about it.\n",
        "\n",
        "Ref: Data Snooping Bias"
      ],
      "metadata": {
        "id": "V5ZDx1nqr3jP"
      }
    },
    {
      "cell_type": "code",
      "source": [
        "from sklearn.model_selection import train_test_split\n",
        "\n",
        "df_train, df_test = train_test_split(df_all_data, test_size=0.2)"
      ],
      "metadata": {
        "id": "o8-cn5TUhf3z"
      },
      "execution_count": null,
      "outputs": []
    },
    {
      "cell_type": "code",
      "source": [
        "print(df_train['sentiment'].value_counts())\n",
        "print(df_test['sentiment'].value_counts())"
      ],
      "metadata": {
        "colab": {
          "base_uri": "https://localhost:8080/"
        },
        "id": "cIt2F3LTiwkg",
        "outputId": "2454506d-4401-462a-fcc3-32325157a569"
      },
      "execution_count": null,
      "outputs": [
        {
          "output_type": "stream",
          "name": "stdout",
          "text": [
            "sentiment\n",
            "positive    20043\n",
            "negative    19957\n",
            "Name: count, dtype: int64\n",
            "sentiment\n",
            "negative    5043\n",
            "positive    4957\n",
            "Name: count, dtype: int64\n"
          ]
        }
      ]
    },
    {
      "cell_type": "markdown",
      "source": [
        "# Clean the Sequence\n",
        "\n",
        "We want to clean up the sentences and convert them into a list of words. This list of words will be the Sequence that we pass into our LSTM model.\n",
        "\n",
        "Steps:\n",
        "1. Remove \"\\<br />\" that I saw in many reviews\n",
        "2. Remove puncutation\n",
        "3. Make everything lowercase\n",
        "4. Split on spaces to get a list of words\n",
        "5. Remove stop words"
      ],
      "metadata": {
        "id": "zbJAsPwQr7Vo"
      }
    },
    {
      "cell_type": "code",
      "source": [
        "test_string = \"The man's old uncle Dr. Joe ate all of the <food_name>! #Hangry <br /><br /> blah...\"\n",
        "test_string_saved = test_string"
      ],
      "metadata": {
        "id": "EcUnRnUilY9v"
      },
      "execution_count": null,
      "outputs": []
    },
    {
      "cell_type": "code",
      "source": [
        "def remove_br(a_string):\n",
        "  return a_string.replace(\"<br />\", \" \")\n",
        "\n",
        "test_string = remove_br(test_string)\n",
        "test_string"
      ],
      "metadata": {
        "colab": {
          "base_uri": "https://localhost:8080/",
          "height": 36
        },
        "id": "7LVNbjVl2Bw4",
        "outputId": "ded5a5a1-3550-459f-d9b2-d6eefe3c3779"
      },
      "execution_count": null,
      "outputs": [
        {
          "output_type": "execute_result",
          "data": {
            "text/plain": [
              "\"The man's old uncle Dr. Joe ate all of the <food_name>! #Hangry    blah...\""
            ],
            "application/vnd.google.colaboratory.intrinsic+json": {
              "type": "string"
            }
          },
          "metadata": {},
          "execution_count": 5
        }
      ]
    },
    {
      "cell_type": "code",
      "source": [
        "import string\n",
        "punctuation_set = set(string.punctuation)\n",
        "\n",
        "def remove_punctuation(a_string):\n",
        "  clean_character_array = [character if character not in punctuation_set else \"\" for character in a_string]\n",
        "  return \"\".join(clean_character_array)\n",
        "\n",
        "test_string = remove_punctuation(test_string)\n",
        "test_string"
      ],
      "metadata": {
        "colab": {
          "base_uri": "https://localhost:8080/",
          "height": 36
        },
        "id": "kY4d13Dji7C-",
        "outputId": "d0cd8f7a-7f89-481b-e0ad-d63c7ede1ce5"
      },
      "execution_count": null,
      "outputs": [
        {
          "output_type": "execute_result",
          "data": {
            "text/plain": [
              "'The mans old uncle Dr Joe ate all of the foodname Hangry    blah'"
            ],
            "application/vnd.google.colaboratory.intrinsic+json": {
              "type": "string"
            }
          },
          "metadata": {},
          "execution_count": 6
        }
      ]
    },
    {
      "cell_type": "code",
      "source": [
        "def to_lower(a_string):\n",
        "  return a_string.lower()\n",
        "\n",
        "test_string = to_lower(test_string)\n",
        "test_string"
      ],
      "metadata": {
        "colab": {
          "base_uri": "https://localhost:8080/",
          "height": 36
        },
        "id": "iuZ3Me7-mF4x",
        "outputId": "8a7b2fa2-15ec-442b-b86f-623faa54831a"
      },
      "execution_count": null,
      "outputs": [
        {
          "output_type": "execute_result",
          "data": {
            "text/plain": [
              "'the mans old uncle dr joe ate all of the foodname hangry    blah'"
            ],
            "application/vnd.google.colaboratory.intrinsic+json": {
              "type": "string"
            }
          },
          "metadata": {},
          "execution_count": 7
        }
      ]
    },
    {
      "cell_type": "code",
      "source": [
        "def split_words(a_string):\n",
        "  return [word for word in a_string.split(\" \") if word != ''] # split on spaces and remove if empty string\n",
        "\n",
        "test_list = split_words(test_string)\n",
        "test_list"
      ],
      "metadata": {
        "colab": {
          "base_uri": "https://localhost:8080/"
        },
        "id": "V-lqWYVPkslq",
        "outputId": "5a4993d9-254f-4e17-83ce-311900ea3c0c"
      },
      "execution_count": null,
      "outputs": [
        {
          "output_type": "execute_result",
          "data": {
            "text/plain": [
              "['the',\n",
              " 'mans',\n",
              " 'old',\n",
              " 'uncle',\n",
              " 'dr',\n",
              " 'joe',\n",
              " 'ate',\n",
              " 'all',\n",
              " 'of',\n",
              " 'the',\n",
              " 'foodname',\n",
              " 'hangry',\n",
              " 'blah']"
            ]
          },
          "metadata": {},
          "execution_count": 8
        }
      ]
    },
    {
      "cell_type": "code",
      "source": [
        "!pip install nltk\n",
        "import nltk\n",
        "nltk.download('stopwords')\n",
        "from nltk.corpus import stopwords"
      ],
      "metadata": {
        "colab": {
          "base_uri": "https://localhost:8080/"
        },
        "id": "7Cs1KCBdpzr0",
        "outputId": "265b0409-6bd4-4336-dfe3-0254401dc009"
      },
      "execution_count": null,
      "outputs": [
        {
          "output_type": "stream",
          "name": "stdout",
          "text": [
            "Requirement already satisfied: nltk in /usr/local/lib/python3.10/dist-packages (3.8.1)\n",
            "Requirement already satisfied: click in /usr/local/lib/python3.10/dist-packages (from nltk) (8.1.7)\n",
            "Requirement already satisfied: joblib in /usr/local/lib/python3.10/dist-packages (from nltk) (1.4.2)\n",
            "Requirement already satisfied: regex>=2021.8.3 in /usr/local/lib/python3.10/dist-packages (from nltk) (2024.5.15)\n",
            "Requirement already satisfied: tqdm in /usr/local/lib/python3.10/dist-packages (from nltk) (4.66.5)\n"
          ]
        },
        {
          "output_type": "stream",
          "name": "stderr",
          "text": [
            "[nltk_data] Downloading package stopwords to /root/nltk_data...\n",
            "[nltk_data]   Unzipping corpora/stopwords.zip.\n"
          ]
        }
      ]
    },
    {
      "cell_type": "code",
      "source": [
        "stop_words = set(stopwords.words('english'))\n",
        "\n",
        "def no_more_stopwords(a_list):\n",
        "  return [word for word in a_list if word not in stop_words]\n",
        "\n",
        "test_list = no_more_stopwords(test_list)\n",
        "test_list"
      ],
      "metadata": {
        "colab": {
          "base_uri": "https://localhost:8080/"
        },
        "id": "CCepvZAvm0_3",
        "outputId": "aa19a9b9-2e28-4b20-e336-7fdc45889410"
      },
      "execution_count": null,
      "outputs": [
        {
          "output_type": "execute_result",
          "data": {
            "text/plain": [
              "['mans', 'old', 'uncle', 'dr', 'joe', 'ate', 'foodname', 'hangry', 'blah']"
            ]
          },
          "metadata": {},
          "execution_count": 10
        }
      ]
    },
    {
      "cell_type": "code",
      "source": [
        "def clean_string(a_string): # returns a list of tokens\n",
        "  return no_more_stopwords(split_words(to_lower(remove_punctuation(remove_br(a_string)))))\n",
        "\n",
        "clean_string(test_string_saved)"
      ],
      "metadata": {
        "colab": {
          "base_uri": "https://localhost:8080/"
        },
        "id": "qNZI6gBwnYWy",
        "outputId": "939b54cd-0474-4900-88b6-6f54cf108f47"
      },
      "execution_count": null,
      "outputs": [
        {
          "output_type": "execute_result",
          "data": {
            "text/plain": [
              "['mans', 'old', 'uncle', 'dr', 'joe', 'ate', 'foodname', 'hangry', 'blah']"
            ]
          },
          "metadata": {},
          "execution_count": 11
        }
      ]
    },
    {
      "cell_type": "code",
      "source": [
        "df_train['clean_review'] = df_train['review'].apply(lambda review_str: clean_string(review_str))\n",
        "df_test['clean_review'] = df_test['review'].apply(lambda review_str: clean_string(review_str))"
      ],
      "metadata": {
        "id": "G0oVVSE_oRHG"
      },
      "execution_count": null,
      "outputs": []
    },
    {
      "cell_type": "code",
      "source": [
        "df_train.head()"
      ],
      "metadata": {
        "colab": {
          "base_uri": "https://localhost:8080/",
          "height": 206
        },
        "id": "u2ocP06KskLX",
        "outputId": "05d141e7-b655-4e82-b0d8-655719ac6796"
      },
      "execution_count": null,
      "outputs": [
        {
          "output_type": "execute_result",
          "data": {
            "text/plain": [
              "                                                  review sentiment  \\\n",
              "12092  All the pro comments about this movie claim th...  negative   \n",
              "13045  Tears of Kali is an original yet flawed horror...  positive   \n",
              "38989  Warning: contains a spoiler. Corny plot and in...  positive   \n",
              "19727  Saw this movie twice at community screenings a...  positive   \n",
              "9550   Isabelle Huppert must be one of the greatest a...  positive   \n",
              "\n",
              "                                            clean_review  \n",
              "12092  [pro, comments, movie, claim, movie, balanced,...  \n",
              "13045  [tears, kali, original, yet, flawed, horror, f...  \n",
              "38989  [warning, contains, spoiler, corny, plot, many...  \n",
              "19727  [saw, movie, twice, community, screenings, rea...  \n",
              "9550   [isabelle, huppert, must, one, greatest, actre...  "
            ],
            "text/html": [
              "\n",
              "  <div id=\"df-b372f3e2-90e7-4829-a154-078e05b9e75f\" class=\"colab-df-container\">\n",
              "    <div>\n",
              "<style scoped>\n",
              "    .dataframe tbody tr th:only-of-type {\n",
              "        vertical-align: middle;\n",
              "    }\n",
              "\n",
              "    .dataframe tbody tr th {\n",
              "        vertical-align: top;\n",
              "    }\n",
              "\n",
              "    .dataframe thead th {\n",
              "        text-align: right;\n",
              "    }\n",
              "</style>\n",
              "<table border=\"1\" class=\"dataframe\">\n",
              "  <thead>\n",
              "    <tr style=\"text-align: right;\">\n",
              "      <th></th>\n",
              "      <th>review</th>\n",
              "      <th>sentiment</th>\n",
              "      <th>clean_review</th>\n",
              "    </tr>\n",
              "  </thead>\n",
              "  <tbody>\n",
              "    <tr>\n",
              "      <th>12092</th>\n",
              "      <td>All the pro comments about this movie claim th...</td>\n",
              "      <td>negative</td>\n",
              "      <td>[pro, comments, movie, claim, movie, balanced,...</td>\n",
              "    </tr>\n",
              "    <tr>\n",
              "      <th>13045</th>\n",
              "      <td>Tears of Kali is an original yet flawed horror...</td>\n",
              "      <td>positive</td>\n",
              "      <td>[tears, kali, original, yet, flawed, horror, f...</td>\n",
              "    </tr>\n",
              "    <tr>\n",
              "      <th>38989</th>\n",
              "      <td>Warning: contains a spoiler. Corny plot and in...</td>\n",
              "      <td>positive</td>\n",
              "      <td>[warning, contains, spoiler, corny, plot, many...</td>\n",
              "    </tr>\n",
              "    <tr>\n",
              "      <th>19727</th>\n",
              "      <td>Saw this movie twice at community screenings a...</td>\n",
              "      <td>positive</td>\n",
              "      <td>[saw, movie, twice, community, screenings, rea...</td>\n",
              "    </tr>\n",
              "    <tr>\n",
              "      <th>9550</th>\n",
              "      <td>Isabelle Huppert must be one of the greatest a...</td>\n",
              "      <td>positive</td>\n",
              "      <td>[isabelle, huppert, must, one, greatest, actre...</td>\n",
              "    </tr>\n",
              "  </tbody>\n",
              "</table>\n",
              "</div>\n",
              "    <div class=\"colab-df-buttons\">\n",
              "\n",
              "  <div class=\"colab-df-container\">\n",
              "    <button class=\"colab-df-convert\" onclick=\"convertToInteractive('df-b372f3e2-90e7-4829-a154-078e05b9e75f')\"\n",
              "            title=\"Convert this dataframe to an interactive table.\"\n",
              "            style=\"display:none;\">\n",
              "\n",
              "  <svg xmlns=\"http://www.w3.org/2000/svg\" height=\"24px\" viewBox=\"0 -960 960 960\">\n",
              "    <path d=\"M120-120v-720h720v720H120Zm60-500h600v-160H180v160Zm220 220h160v-160H400v160Zm0 220h160v-160H400v160ZM180-400h160v-160H180v160Zm440 0h160v-160H620v160ZM180-180h160v-160H180v160Zm440 0h160v-160H620v160Z\"/>\n",
              "  </svg>\n",
              "    </button>\n",
              "\n",
              "  <style>\n",
              "    .colab-df-container {\n",
              "      display:flex;\n",
              "      gap: 12px;\n",
              "    }\n",
              "\n",
              "    .colab-df-convert {\n",
              "      background-color: #E8F0FE;\n",
              "      border: none;\n",
              "      border-radius: 50%;\n",
              "      cursor: pointer;\n",
              "      display: none;\n",
              "      fill: #1967D2;\n",
              "      height: 32px;\n",
              "      padding: 0 0 0 0;\n",
              "      width: 32px;\n",
              "    }\n",
              "\n",
              "    .colab-df-convert:hover {\n",
              "      background-color: #E2EBFA;\n",
              "      box-shadow: 0px 1px 2px rgba(60, 64, 67, 0.3), 0px 1px 3px 1px rgba(60, 64, 67, 0.15);\n",
              "      fill: #174EA6;\n",
              "    }\n",
              "\n",
              "    .colab-df-buttons div {\n",
              "      margin-bottom: 4px;\n",
              "    }\n",
              "\n",
              "    [theme=dark] .colab-df-convert {\n",
              "      background-color: #3B4455;\n",
              "      fill: #D2E3FC;\n",
              "    }\n",
              "\n",
              "    [theme=dark] .colab-df-convert:hover {\n",
              "      background-color: #434B5C;\n",
              "      box-shadow: 0px 1px 3px 1px rgba(0, 0, 0, 0.15);\n",
              "      filter: drop-shadow(0px 1px 2px rgba(0, 0, 0, 0.3));\n",
              "      fill: #FFFFFF;\n",
              "    }\n",
              "  </style>\n",
              "\n",
              "    <script>\n",
              "      const buttonEl =\n",
              "        document.querySelector('#df-b372f3e2-90e7-4829-a154-078e05b9e75f button.colab-df-convert');\n",
              "      buttonEl.style.display =\n",
              "        google.colab.kernel.accessAllowed ? 'block' : 'none';\n",
              "\n",
              "      async function convertToInteractive(key) {\n",
              "        const element = document.querySelector('#df-b372f3e2-90e7-4829-a154-078e05b9e75f');\n",
              "        const dataTable =\n",
              "          await google.colab.kernel.invokeFunction('convertToInteractive',\n",
              "                                                    [key], {});\n",
              "        if (!dataTable) return;\n",
              "\n",
              "        const docLinkHtml = 'Like what you see? Visit the ' +\n",
              "          '<a target=\"_blank\" href=https://colab.research.google.com/notebooks/data_table.ipynb>data table notebook</a>'\n",
              "          + ' to learn more about interactive tables.';\n",
              "        element.innerHTML = '';\n",
              "        dataTable['output_type'] = 'display_data';\n",
              "        await google.colab.output.renderOutput(dataTable, element);\n",
              "        const docLink = document.createElement('div');\n",
              "        docLink.innerHTML = docLinkHtml;\n",
              "        element.appendChild(docLink);\n",
              "      }\n",
              "    </script>\n",
              "  </div>\n",
              "\n",
              "\n",
              "<div id=\"df-c419c722-b6aa-402d-9d04-b37aec830bd9\">\n",
              "  <button class=\"colab-df-quickchart\" onclick=\"quickchart('df-c419c722-b6aa-402d-9d04-b37aec830bd9')\"\n",
              "            title=\"Suggest charts\"\n",
              "            style=\"display:none;\">\n",
              "\n",
              "<svg xmlns=\"http://www.w3.org/2000/svg\" height=\"24px\"viewBox=\"0 0 24 24\"\n",
              "     width=\"24px\">\n",
              "    <g>\n",
              "        <path d=\"M19 3H5c-1.1 0-2 .9-2 2v14c0 1.1.9 2 2 2h14c1.1 0 2-.9 2-2V5c0-1.1-.9-2-2-2zM9 17H7v-7h2v7zm4 0h-2V7h2v10zm4 0h-2v-4h2v4z\"/>\n",
              "    </g>\n",
              "</svg>\n",
              "  </button>\n",
              "\n",
              "<style>\n",
              "  .colab-df-quickchart {\n",
              "      --bg-color: #E8F0FE;\n",
              "      --fill-color: #1967D2;\n",
              "      --hover-bg-color: #E2EBFA;\n",
              "      --hover-fill-color: #174EA6;\n",
              "      --disabled-fill-color: #AAA;\n",
              "      --disabled-bg-color: #DDD;\n",
              "  }\n",
              "\n",
              "  [theme=dark] .colab-df-quickchart {\n",
              "      --bg-color: #3B4455;\n",
              "      --fill-color: #D2E3FC;\n",
              "      --hover-bg-color: #434B5C;\n",
              "      --hover-fill-color: #FFFFFF;\n",
              "      --disabled-bg-color: #3B4455;\n",
              "      --disabled-fill-color: #666;\n",
              "  }\n",
              "\n",
              "  .colab-df-quickchart {\n",
              "    background-color: var(--bg-color);\n",
              "    border: none;\n",
              "    border-radius: 50%;\n",
              "    cursor: pointer;\n",
              "    display: none;\n",
              "    fill: var(--fill-color);\n",
              "    height: 32px;\n",
              "    padding: 0;\n",
              "    width: 32px;\n",
              "  }\n",
              "\n",
              "  .colab-df-quickchart:hover {\n",
              "    background-color: var(--hover-bg-color);\n",
              "    box-shadow: 0 1px 2px rgba(60, 64, 67, 0.3), 0 1px 3px 1px rgba(60, 64, 67, 0.15);\n",
              "    fill: var(--button-hover-fill-color);\n",
              "  }\n",
              "\n",
              "  .colab-df-quickchart-complete:disabled,\n",
              "  .colab-df-quickchart-complete:disabled:hover {\n",
              "    background-color: var(--disabled-bg-color);\n",
              "    fill: var(--disabled-fill-color);\n",
              "    box-shadow: none;\n",
              "  }\n",
              "\n",
              "  .colab-df-spinner {\n",
              "    border: 2px solid var(--fill-color);\n",
              "    border-color: transparent;\n",
              "    border-bottom-color: var(--fill-color);\n",
              "    animation:\n",
              "      spin 1s steps(1) infinite;\n",
              "  }\n",
              "\n",
              "  @keyframes spin {\n",
              "    0% {\n",
              "      border-color: transparent;\n",
              "      border-bottom-color: var(--fill-color);\n",
              "      border-left-color: var(--fill-color);\n",
              "    }\n",
              "    20% {\n",
              "      border-color: transparent;\n",
              "      border-left-color: var(--fill-color);\n",
              "      border-top-color: var(--fill-color);\n",
              "    }\n",
              "    30% {\n",
              "      border-color: transparent;\n",
              "      border-left-color: var(--fill-color);\n",
              "      border-top-color: var(--fill-color);\n",
              "      border-right-color: var(--fill-color);\n",
              "    }\n",
              "    40% {\n",
              "      border-color: transparent;\n",
              "      border-right-color: var(--fill-color);\n",
              "      border-top-color: var(--fill-color);\n",
              "    }\n",
              "    60% {\n",
              "      border-color: transparent;\n",
              "      border-right-color: var(--fill-color);\n",
              "    }\n",
              "    80% {\n",
              "      border-color: transparent;\n",
              "      border-right-color: var(--fill-color);\n",
              "      border-bottom-color: var(--fill-color);\n",
              "    }\n",
              "    90% {\n",
              "      border-color: transparent;\n",
              "      border-bottom-color: var(--fill-color);\n",
              "    }\n",
              "  }\n",
              "</style>\n",
              "\n",
              "  <script>\n",
              "    async function quickchart(key) {\n",
              "      const quickchartButtonEl =\n",
              "        document.querySelector('#' + key + ' button');\n",
              "      quickchartButtonEl.disabled = true;  // To prevent multiple clicks.\n",
              "      quickchartButtonEl.classList.add('colab-df-spinner');\n",
              "      try {\n",
              "        const charts = await google.colab.kernel.invokeFunction(\n",
              "            'suggestCharts', [key], {});\n",
              "      } catch (error) {\n",
              "        console.error('Error during call to suggestCharts:', error);\n",
              "      }\n",
              "      quickchartButtonEl.classList.remove('colab-df-spinner');\n",
              "      quickchartButtonEl.classList.add('colab-df-quickchart-complete');\n",
              "    }\n",
              "    (() => {\n",
              "      let quickchartButtonEl =\n",
              "        document.querySelector('#df-c419c722-b6aa-402d-9d04-b37aec830bd9 button');\n",
              "      quickchartButtonEl.style.display =\n",
              "        google.colab.kernel.accessAllowed ? 'block' : 'none';\n",
              "    })();\n",
              "  </script>\n",
              "</div>\n",
              "\n",
              "    </div>\n",
              "  </div>\n"
            ],
            "application/vnd.google.colaboratory.intrinsic+json": {
              "type": "dataframe",
              "variable_name": "df_train",
              "summary": "{\n  \"name\": \"df_train\",\n  \"rows\": 40000,\n  \"fields\": [\n    {\n      \"column\": \"review\",\n      \"properties\": {\n        \"dtype\": \"string\",\n        \"num_unique_values\": 39730,\n        \"samples\": [\n          \"The Russian movie, \\\"4,\\\" follows the lives of three (not four) strangers who meet one night in a local bar. One is a musician, one a frozen meat seller and one a call girl.<br /><br />\\\"4,\\\" I gather, is intended to showcase the dreariness and hopelessness of life in post-Soviet Russia (the characters have to make up stories to make their lives appear more interesting than they really are), but the movie is so incoherent and boring that I seriously doubt very many people will be able to sit all the way through it. There seems to be a suggestion running through the film that the shadowy Russian government is up to some shady doings behind the scenes - operating secret cloning facilities, selling decades-old frozen meat etc. - but the movie is so formless and incomprehensible that I doubt anyone could figure out what anybody's really up to here.<br /><br />Despite decent acting and a few incisively directed scenes, \\\"4\\\" is a two-hour long endurance contest that should be avoided at all costs.\",\n          \"I'm sure some people will enjoy it, and find it powerful, or have some sort of personal connection with the characters and story, but from an unbiased stand point, it's not very well done. The film revolves around atypical angst-ridden teenagers, each one playing out a different stereotype making us believe this is what it's like to be a teenager. We get to see a bit of each teenager's lifestyle, but the entire project just came off as pretentious to me, whether it be the constant low angle shots of tree branches in the wind, or the black and white \\\"interviews\\\" with the students, there was nothing new or original showcased in this movie, and nothing I needed to see. Yes, it deals with some strong subject material, and the dramatic scenes are played and acted well, but the entire project seems unnecessary, especially when it seems almost an exact replica to Van Sant's \\\"Elephant\\\" (one dealing with suicide, the other with a school shooting). As I said, some people will probably enjoy this, and the director/writer clearly had some sort of inspiration to make this movie based on the death of a close one, so it's nice the movie was made with some heart in it, but I feel it's incredibly ineffective, and when dealing with material that can be so easily clich\\u00e9d to do something original with it. I would not recommend this movie.\",\n          \"I thought Harvey Keitel, a young, fresh from the Sex Pistols John Lydon, then as a bonus, the music by Ennio Morricone. I expected an old-school, edgy, Italian cop thriller that was made in America. Istead, I got a mishmash story that never made sense and a movie that left me saying: WTF!!! Too many unanswered questions, and not enough action. The result: a potential cult classic got flushed down the toilet. Keitel and Lydon work well together, so maybe Quentin Tarantino can reunite these guys with better script. Oh, and the Morricone score: OK, but not memorable.<br /><br />Overall, not a waste of time, but not a \\\"must see\\\", unless you are a hardcore Keitel fan.\"\n        ],\n        \"semantic_type\": \"\",\n        \"description\": \"\"\n      }\n    },\n    {\n      \"column\": \"sentiment\",\n      \"properties\": {\n        \"dtype\": \"category\",\n        \"num_unique_values\": 2,\n        \"samples\": [\n          \"positive\",\n          \"negative\"\n        ],\n        \"semantic_type\": \"\",\n        \"description\": \"\"\n      }\n    },\n    {\n      \"column\": \"clean_review\",\n      \"properties\": {\n        \"dtype\": \"object\",\n        \"semantic_type\": \"\",\n        \"description\": \"\"\n      }\n    }\n  ]\n}"
            }
          },
          "metadata": {},
          "execution_count": 13
        }
      ]
    },
    {
      "cell_type": "markdown",
      "source": [
        "# Preprocessing: Prepare Data for Training"
      ],
      "metadata": {
        "id": "_juD2BR7N9VJ"
      }
    },
    {
      "cell_type": "markdown",
      "source": [
        "## Convert Labels"
      ],
      "metadata": {
        "id": "z_SItidzoSXm"
      }
    },
    {
      "cell_type": "code",
      "source": [
        "df_train['sentiment'].value_counts()\n",
        "\n",
        "df_train['label'] = (df_train['sentiment'] == 'positive') + 0\n",
        "df_test['label'] = (df_test['sentiment'] == 'positive') + 0\n",
        "\n",
        "df_train['label']"
      ],
      "metadata": {
        "colab": {
          "base_uri": "https://localhost:8080/",
          "height": 459
        },
        "id": "4yWD4cLRoREB",
        "outputId": "d0274d4d-b27b-43db-9168-110593b2532a"
      },
      "execution_count": null,
      "outputs": [
        {
          "output_type": "execute_result",
          "data": {
            "text/plain": [
              "12092    0\n",
              "13045    1\n",
              "38989    1\n",
              "19727    1\n",
              "9550     1\n",
              "        ..\n",
              "9949     1\n",
              "23108    0\n",
              "4397     1\n",
              "7832     1\n",
              "1730     1\n",
              "Name: label, Length: 40000, dtype: int64"
            ],
            "text/html": [
              "<div>\n",
              "<style scoped>\n",
              "    .dataframe tbody tr th:only-of-type {\n",
              "        vertical-align: middle;\n",
              "    }\n",
              "\n",
              "    .dataframe tbody tr th {\n",
              "        vertical-align: top;\n",
              "    }\n",
              "\n",
              "    .dataframe thead th {\n",
              "        text-align: right;\n",
              "    }\n",
              "</style>\n",
              "<table border=\"1\" class=\"dataframe\">\n",
              "  <thead>\n",
              "    <tr style=\"text-align: right;\">\n",
              "      <th></th>\n",
              "      <th>label</th>\n",
              "    </tr>\n",
              "  </thead>\n",
              "  <tbody>\n",
              "    <tr>\n",
              "      <th>12092</th>\n",
              "      <td>0</td>\n",
              "    </tr>\n",
              "    <tr>\n",
              "      <th>13045</th>\n",
              "      <td>1</td>\n",
              "    </tr>\n",
              "    <tr>\n",
              "      <th>38989</th>\n",
              "      <td>1</td>\n",
              "    </tr>\n",
              "    <tr>\n",
              "      <th>19727</th>\n",
              "      <td>1</td>\n",
              "    </tr>\n",
              "    <tr>\n",
              "      <th>9550</th>\n",
              "      <td>1</td>\n",
              "    </tr>\n",
              "    <tr>\n",
              "      <th>...</th>\n",
              "      <td>...</td>\n",
              "    </tr>\n",
              "    <tr>\n",
              "      <th>9949</th>\n",
              "      <td>1</td>\n",
              "    </tr>\n",
              "    <tr>\n",
              "      <th>23108</th>\n",
              "      <td>0</td>\n",
              "    </tr>\n",
              "    <tr>\n",
              "      <th>4397</th>\n",
              "      <td>1</td>\n",
              "    </tr>\n",
              "    <tr>\n",
              "      <th>7832</th>\n",
              "      <td>1</td>\n",
              "    </tr>\n",
              "    <tr>\n",
              "      <th>1730</th>\n",
              "      <td>1</td>\n",
              "    </tr>\n",
              "  </tbody>\n",
              "</table>\n",
              "<p>40000 rows × 1 columns</p>\n",
              "</div><br><label><b>dtype:</b> int64</label>"
            ]
          },
          "metadata": {},
          "execution_count": 14
        }
      ]
    },
    {
      "cell_type": "markdown",
      "source": [
        "## Create Embeddings for Words in the Sequences\n",
        "\n",
        "We already stated that a Sequence will be a list of words, but we need to convert the words to numerical representations. For this, we will use Word2Vec to create embeddings."
      ],
      "metadata": {
        "id": "3H2e18aJICL3"
      }
    },
    {
      "cell_type": "code",
      "source": [
        "from gensim.models import Word2Vec\n",
        "\n",
        "EMBEDDING_SIZE = 50 # all words have the same size embedding vector\n",
        "\n",
        "all_reviews = df_train['clean_review'].tolist()\n",
        "all_reviews.extend(df_test['clean_review'].tolist())\n",
        "\n",
        "w2v_model = Word2Vec(all_reviews, vector_size=EMBEDDING_SIZE)"
      ],
      "metadata": {
        "id": "hHCSWx6n26ph"
      },
      "execution_count": null,
      "outputs": []
    },
    {
      "cell_type": "code",
      "source": [
        "w2v_model.wv['movie']"
      ],
      "metadata": {
        "colab": {
          "base_uri": "https://localhost:8080/"
        },
        "id": "p5ifioN0y1Yb",
        "outputId": "3ffa4e10-33c7-4b8b-a8b3-a7d9cfdb8584"
      },
      "execution_count": null,
      "outputs": [
        {
          "output_type": "execute_result",
          "data": {
            "text/plain": [
              "array([ 0.31828904, -0.8868779 ,  1.3738177 ,  1.2184459 ,  0.90348727,\n",
              "       -0.8043505 , -0.68080163,  0.23262513, -0.91925955,  0.46507916,\n",
              "        2.1265419 , -0.4203812 ,  0.6851513 ,  1.9406614 ,  2.44906   ,\n",
              "       -0.01712836,  2.4688804 ,  0.8475711 ,  0.6018288 , -0.5392597 ,\n",
              "        0.49386418, -1.4467301 ,  1.522605  , -1.4516146 ,  2.1354558 ,\n",
              "       -1.5341475 ,  0.9359828 ,  3.3123887 ,  0.6991249 , -0.564326  ,\n",
              "       -2.9011707 , -0.21526068,  2.469162  , -2.224061  , -0.07555475,\n",
              "       -0.6854777 ,  1.4547677 , -2.2247236 , -1.200595  ,  0.49142864,\n",
              "        0.81556785,  3.270022  ,  0.01640308, -0.03049554, -0.3370168 ,\n",
              "        2.0427492 , -0.06241551,  0.69856083, -3.0602958 ,  0.6697606 ],\n",
              "      dtype=float32)"
            ]
          },
          "metadata": {},
          "execution_count": 16
        }
      ]
    },
    {
      "cell_type": "code",
      "source": [
        "# w2v_model.wv['movie']\n",
        "# w2v_model.wv.key_to_index['computer']\n",
        "# w2v_model.wv.index_to_key[0]\n",
        "\n",
        "w2v_model.wv.most_similar('movie', topn=3)"
      ],
      "metadata": {
        "colab": {
          "base_uri": "https://localhost:8080/"
        },
        "id": "1_FvxonF5FS7",
        "outputId": "801324cd-db8b-4ac5-bf50-9caec1b5cb49"
      },
      "execution_count": null,
      "outputs": [
        {
          "output_type": "execute_result",
          "data": {
            "text/plain": [
              "[('film', 0.8750318288803101),\n",
              " ('flick', 0.7314739227294922),\n",
              " ('movies', 0.7211723923683167)]"
            ]
          },
          "metadata": {},
          "execution_count": 17
        }
      ]
    },
    {
      "cell_type": "code",
      "source": [
        "import torch\n",
        "from torch.utils.data import DataLoader, TensorDataset\n",
        "\n",
        "SEQUENCE_LENGTH = 100 # cap each review to 100 words (tokens)\n",
        "\n",
        "def convert_sequences_to_tensor(sequences, num_tokens_in_sequence, embedding_size):\n",
        "  '''\n",
        "  We want a torch.FloatTensor() of size (num_sequences, num_tokens_in_sequence, embedding_size)\n",
        "  '''\n",
        "  num_sequences = len(sequences)\n",
        "  print((num_sequences, num_tokens_in_sequence, embedding_size))\n",
        "\n",
        "  data_tensor = torch.zeros((num_sequences, num_tokens_in_sequence, embedding_size))\n",
        "\n",
        "  for index, review in enumerate(list(sequences)):\n",
        "    # Create a word embedding for each word in the review (where a review is a sequence)\n",
        "    truncated_clean_review = review[:num_tokens_in_sequence] # truncate to sequence length limit\n",
        "    list_of_word_embeddings = [w2v_model.wv[word] if word in w2v_model.wv else [0.0]*embedding_size for word in truncated_clean_review]\n",
        "\n",
        "    # convert the review to a tensor\n",
        "    sequence_tensor = torch.FloatTensor(list_of_word_embeddings)\n",
        "\n",
        "    # add the review to our tensor of data\n",
        "    review_length = sequence_tensor.shape[0] # (review_length, embedding_size)\n",
        "    data_tensor[index,:review_length,:] = sequence_tensor\n",
        "\n",
        "  return data_tensor"
      ],
      "metadata": {
        "id": "EbOcNpm4yYh5"
      },
      "execution_count": null,
      "outputs": []
    },
    {
      "cell_type": "code",
      "source": [
        "train_data_X = convert_sequences_to_tensor(df_train['clean_review'].to_numpy(), SEQUENCE_LENGTH, EMBEDDING_SIZE)\n",
        "train_data_y = torch.FloatTensor([int(d) for d in df_train['label'].to_numpy()])\n",
        "\n",
        "test_data_X = convert_sequences_to_tensor(df_test['clean_review'].to_numpy(), SEQUENCE_LENGTH, EMBEDDING_SIZE)\n",
        "test_data_y = torch.FloatTensor([int(d) for d in df_test['label'].to_numpy()])"
      ],
      "metadata": {
        "colab": {
          "base_uri": "https://localhost:8080/"
        },
        "id": "idxOszdvMNhs",
        "outputId": "f82f4237-b6c2-4254-a18a-2fe421e701ae"
      },
      "execution_count": null,
      "outputs": [
        {
          "output_type": "stream",
          "name": "stdout",
          "text": [
            "(40000, 100, 50)\n"
          ]
        },
        {
          "output_type": "stream",
          "name": "stderr",
          "text": [
            "<ipython-input-18-3eae154a8606>:21: UserWarning: Creating a tensor from a list of numpy.ndarrays is extremely slow. Please consider converting the list to a single numpy.ndarray with numpy.array() before converting to a tensor. (Triggered internally at ../torch/csrc/utils/tensor_new.cpp:278.)\n",
            "  sequence_tensor = torch.FloatTensor(list_of_word_embeddings)\n"
          ]
        },
        {
          "output_type": "stream",
          "name": "stdout",
          "text": [
            "(10000, 100, 50)\n"
          ]
        }
      ]
    },
    {
      "cell_type": "code",
      "source": [
        "print(\"Example Sequence:\")\n",
        "print(train_data_X[0])\n",
        "\n",
        "print(\"Example Label:\")\n",
        "print(train_data_y[0])"
      ],
      "metadata": {
        "colab": {
          "base_uri": "https://localhost:8080/"
        },
        "id": "X-H8ctBFJ_eZ",
        "outputId": "528f178a-b1a1-4d4b-f27a-8f922cff8ed8"
      },
      "execution_count": null,
      "outputs": [
        {
          "output_type": "stream",
          "name": "stdout",
          "text": [
            "Example Sequence:\n",
            "tensor([[-0.5401, -0.1672,  0.8391,  ..., -0.8313,  0.3483,  0.1239],\n",
            "        [ 0.1263,  2.4532,  0.1125,  ..., -2.4811, -1.3203,  0.4051],\n",
            "        [ 0.3183, -0.8869,  1.3738,  ...,  0.6986, -3.0603,  0.6698],\n",
            "        ...,\n",
            "        [ 0.0000,  0.0000,  0.0000,  ...,  0.0000,  0.0000,  0.0000],\n",
            "        [ 0.0000,  0.0000,  0.0000,  ...,  0.0000,  0.0000,  0.0000],\n",
            "        [ 0.0000,  0.0000,  0.0000,  ...,  0.0000,  0.0000,  0.0000]])\n",
            "Example Label:\n",
            "tensor(0.)\n"
          ]
        }
      ]
    },
    {
      "cell_type": "code",
      "source": [
        "train_data = TensorDataset(train_data_X, train_data_y)\n",
        "test_data = TensorDataset(test_data_X, test_data_y)"
      ],
      "metadata": {
        "id": "jVmis2osN8sn"
      },
      "execution_count": null,
      "outputs": []
    },
    {
      "cell_type": "code",
      "source": [
        "batch_size = 100\n",
        "train_loader = DataLoader(train_data, batch_size=batch_size, shuffle=True)\n",
        "test_loader = DataLoader(test_data, batch_size=batch_size, shuffle=False)"
      ],
      "metadata": {
        "id": "GSf04_6WPCBn"
      },
      "execution_count": null,
      "outputs": []
    },
    {
      "cell_type": "markdown",
      "source": [
        "# Create the Model"
      ],
      "metadata": {
        "id": "7WrZLVUdNxFY"
      }
    },
    {
      "cell_type": "code",
      "source": [
        "device = 'cuda' if torch.cuda.is_available() else 'cpu'\n",
        "device"
      ],
      "metadata": {
        "colab": {
          "base_uri": "https://localhost:8080/",
          "height": 36
        },
        "id": "ubVi4SjwVZLd",
        "outputId": "7f2695a5-7bf5-444f-8207-936fef18cd23"
      },
      "execution_count": null,
      "outputs": [
        {
          "output_type": "execute_result",
          "data": {
            "text/plain": [
              "'cuda'"
            ],
            "application/vnd.google.colaboratory.intrinsic+json": {
              "type": "string"
            }
          },
          "metadata": {},
          "execution_count": 23
        }
      ]
    },
    {
      "cell_type": "code",
      "source": [
        "import torch.nn as nn\n",
        "\n",
        "class LSTMModel(nn.Module):\n",
        "  def __init__(self, input_size, hidden_size, num_stacked_layers, drop_prob=0.7):\n",
        "    '''\n",
        "    lstm_input_dim: number of values in an embedding\n",
        "    '''\n",
        "    super(LSTMModel,self).__init__()\n",
        "\n",
        "    self.num_stacked_layers = num_stacked_layers\n",
        "    self.hidden_size = hidden_size\n",
        "\n",
        "    self.lstm = nn.LSTM(\n",
        "        input_size = input_size,\n",
        "        hidden_size = hidden_size,\n",
        "        num_layers = num_stacked_layers,\n",
        "        batch_first = True\n",
        "      )\n",
        "\n",
        "    self.dropout = nn.Dropout(drop_prob) # randomly sets outputs of a tensor to 0 during training\n",
        "\n",
        "    self.fc = nn.Linear(hidden_size, 1)\n",
        "    self.sigmoid = nn.Sigmoid()\n",
        "\n",
        "  def forward(self, x):\n",
        "    '''\n",
        "    x -> (batch_size, sequence_size, embedding_size)\n",
        "    '''\n",
        "    batch_size = x.size(0)\n",
        "\n",
        "    # Initialize the cell state and hidden state\n",
        "    h0 = torch.zeros((self.num_stacked_layers, batch_size, self.hidden_size)).to(device)\n",
        "    c0 = torch.zeros((self.num_stacked_layers, batch_size, self.hidden_size)).to(device)\n",
        "\n",
        "    # Call the LSTM\n",
        "    lstm_out, hidden = self.lstm(x, (h0, c0))\n",
        "\n",
        "    # contiguous() moves all data into 1 block of memory on the GPU\n",
        "    # (batch_size, sequence_size, embedding_size) -> (batch_size*sequence_size, embedding_size)\n",
        "    lstm_out = lstm_out.contiguous().view(-1, self.hidden_size)\n",
        "\n",
        "    # dropout and fully connected layer\n",
        "    lstm_out = self.dropout(lstm_out) # Only during training\n",
        "    fc_out = self.fc(lstm_out)\n",
        "\n",
        "    # apply the sigmoid function to maps the value to somewhere between 0 and 1\n",
        "    sigmoid_out = self.sigmoid(fc_out)\n",
        "\n",
        "    # reshape to be batch_size first - every batch has a value between 0 and 1\n",
        "    sigmoid_out = sigmoid_out.view(batch_size, -1) # a list of lists with single elements\n",
        "    sigmoid_out = sigmoid_out[:, -1] # get the output labels as a list\n",
        "\n",
        "    # return last sigmoid output and hidden state\n",
        "    return sigmoid_out, hidden"
      ],
      "metadata": {
        "id": "WBLsGs1vL1Ex"
      },
      "execution_count": null,
      "outputs": []
    },
    {
      "cell_type": "code",
      "source": [
        "LSTM_INPUT_SIZE = EMBEDDING_SIZE # size of the embeddings\n",
        "LSTM_HIDDEN_SIZE = 128\n",
        "LSTM_NUM_STACKED_LAYERS = 2\n",
        "\n",
        "lstm_model = LSTMModel(LSTM_INPUT_SIZE, LSTM_HIDDEN_SIZE, LSTM_NUM_STACKED_LAYERS)\n",
        "lstm_model.to(device)\n",
        "print(lstm_model)"
      ],
      "metadata": {
        "colab": {
          "base_uri": "https://localhost:8080/"
        },
        "id": "cOX4AkLCRXB1",
        "outputId": "13dee2a3-12b4-4f4a-e8e6-cd58f031487e"
      },
      "execution_count": null,
      "outputs": [
        {
          "output_type": "stream",
          "name": "stdout",
          "text": [
            "LSTMModel(\n",
            "  (lstm): LSTM(50, 128, num_layers=2, batch_first=True)\n",
            "  (dropout): Dropout(p=0.7, inplace=False)\n",
            "  (fc): Linear(in_features=128, out_features=1, bias=True)\n",
            "  (sigmoid): Sigmoid()\n",
            ")\n"
          ]
        }
      ]
    },
    {
      "cell_type": "markdown",
      "source": [
        "# Training Loop"
      ],
      "metadata": {
        "id": "HBr0uC6mVcgK"
      }
    },
    {
      "cell_type": "code",
      "source": [
        "import numpy as np\n",
        "\n",
        "lr=0.001\n",
        "criterion = nn.BCELoss()\n",
        "optimizer = torch.optim.Adam(lstm_model.parameters(), lr=lr)\n",
        "epochs = 15\n",
        "\n",
        "def accuracy(pred, label):\n",
        "    pred = torch.round(pred.squeeze())\n",
        "    return torch.sum(pred == label.squeeze()).item()"
      ],
      "metadata": {
        "id": "YmGLMv8nVbM4"
      },
      "execution_count": null,
      "outputs": []
    },
    {
      "cell_type": "code",
      "source": [
        "# Training loop\n",
        "def train_loop(model, train_loader, optimizer, criterion):\n",
        "  model.train()\n",
        "  train_accuracy = 0.0\n",
        "  train_losses = []\n",
        "  for inputs, labels in train_loader:\n",
        "    inputs, labels = inputs.to(device), labels.to(device)\n",
        "\n",
        "    outputs, h = model(inputs) # Forward pass\n",
        "    loss = criterion(outputs, labels) # Calculate the loss\n",
        "    optimizer.zero_grad() # Clear out all previous gradients\n",
        "    loss.backward() # Calculate new gradients\n",
        "    optimizer.step() # Update parametres using the gradients\n",
        "\n",
        "    train_losses.append(loss.item())\n",
        "    train_accuracy += accuracy(outputs, labels)\n",
        "\n",
        "  epoch_train_loss = np.mean(train_losses)\n",
        "  epoch_train_acc = (train_accuracy/len(train_loader.dataset))*100.0\n",
        "  return (epoch_train_loss, epoch_train_acc)\n",
        "\n",
        "# Test/Validation Loop\n",
        "def test_loop(model, test_loader, criterion):\n",
        "  model.eval()\n",
        "  test_accuracy = 0.0\n",
        "  test_losses = []\n",
        "  with torch.no_grad():\n",
        "    for inputs, labels in test_loader:\n",
        "      inputs, labels = inputs.to(device), labels.to(device)\n",
        "\n",
        "      outputs, val_h = model(inputs)\n",
        "      loss = criterion(outputs, labels)\n",
        "\n",
        "      test_losses.append(loss.item())\n",
        "      test_accuracy += accuracy(outputs, labels)\n",
        "\n",
        "  epoch_test_loss = np.mean(test_losses)\n",
        "  epoch_test_accuracy = (test_accuracy/len(test_loader.dataset))*100.0\n",
        "\n",
        "  return (epoch_test_loss, epoch_test_accuracy)\n",
        "\n",
        "# Training and validation loop\n",
        "epoch_train_losses = []\n",
        "epoch_train_accs = []\n",
        "epoch_test_losses = []\n",
        "epoch_test_accs = []\n",
        "for epoch in range(epochs):\n",
        "  epoch_train_loss, epoch_train_acc = train_loop(lstm_model, train_loader, optimizer, criterion)\n",
        "  epoch_test_loss, epoch_test_acc = test_loop(lstm_model, test_loader, criterion)\n",
        "\n",
        "  print(f'Epoch {epoch+1}/{epochs}, Train Loss: {epoch_train_loss:.4f} Train Acc: {epoch_train_acc:.4f} | Test Loss: {epoch_test_loss:.4f} Test Acc: {epoch_test_acc:.4f}')\n",
        "\n",
        "  epoch_train_losses.append(epoch_train_loss)\n",
        "  epoch_train_accs.append(epoch_train_acc)\n",
        "  epoch_test_losses.append(epoch_test_loss)\n",
        "  epoch_test_accs.append(epoch_test_acc)"
      ],
      "metadata": {
        "colab": {
          "base_uri": "https://localhost:8080/"
        },
        "id": "A-_UW48ueTM7",
        "outputId": "fee23ba9-e5de-4441-d0ce-3da4d792f027"
      },
      "execution_count": null,
      "outputs": [
        {
          "output_type": "stream",
          "name": "stdout",
          "text": [
            "Epoch 1/15, Train Loss: 0.5984 Train Acc: 68.0350 | Test Loss: 0.7025 Test Acc: 51.9100\n",
            "Epoch 2/15, Train Loss: 0.6766 Train Acc: 55.3425 | Test Loss: 0.5214 Test Acc: 73.6200\n",
            "Epoch 3/15, Train Loss: 0.4185 Train Acc: 82.0475 | Test Loss: 0.3512 Test Acc: 84.8500\n",
            "Epoch 4/15, Train Loss: 0.3471 Train Acc: 85.1050 | Test Loss: 0.3301 Test Acc: 86.1300\n",
            "Epoch 5/15, Train Loss: 0.3331 Train Acc: 85.7325 | Test Loss: 0.3256 Test Acc: 86.4800\n",
            "Epoch 6/15, Train Loss: 0.3206 Train Acc: 86.4375 | Test Loss: 0.3288 Test Acc: 85.7400\n",
            "Epoch 7/15, Train Loss: 0.3085 Train Acc: 86.7750 | Test Loss: 0.3191 Test Acc: 86.0600\n",
            "Epoch 8/15, Train Loss: 0.3027 Train Acc: 87.1225 | Test Loss: 0.3130 Test Acc: 86.5200\n",
            "Epoch 9/15, Train Loss: 0.2927 Train Acc: 87.4975 | Test Loss: 0.3137 Test Acc: 86.5700\n",
            "Epoch 10/15, Train Loss: 0.2837 Train Acc: 88.0675 | Test Loss: 0.3075 Test Acc: 86.7700\n",
            "Epoch 11/15, Train Loss: 0.2724 Train Acc: 88.6625 | Test Loss: 0.3097 Test Acc: 87.0500\n",
            "Epoch 12/15, Train Loss: 0.2601 Train Acc: 89.0425 | Test Loss: 0.3102 Test Acc: 86.8800\n",
            "Epoch 13/15, Train Loss: 0.2506 Train Acc: 89.6125 | Test Loss: 0.3066 Test Acc: 87.3200\n",
            "Epoch 14/15, Train Loss: 0.2342 Train Acc: 90.4425 | Test Loss: 0.3187 Test Acc: 86.8600\n",
            "Epoch 15/15, Train Loss: 0.2213 Train Acc: 90.8675 | Test Loss: 0.3365 Test Acc: 87.2100\n"
          ]
        }
      ]
    },
    {
      "cell_type": "code",
      "source": [
        "import matplotlib.pyplot as plt\n",
        "\n",
        "fig = plt.figure(figsize = (10, 3))\n",
        "\n",
        "plt.subplot(1, 2, 1)\n",
        "plt.plot(epoch_train_accs, label='Train Accuracy')\n",
        "plt.plot(epoch_test_accs, label='Test Accuracy')\n",
        "plt.title(\"Accuracy\")\n",
        "plt.legend()\n",
        "plt.grid()\n",
        "\n",
        "plt.subplot(1, 2, 2)\n",
        "plt.plot(epoch_train_losses, label='Train Loss')\n",
        "plt.plot(epoch_test_losses, label='Test Loss')\n",
        "plt.title(\"Loss\")\n",
        "plt.legend()\n",
        "plt.grid()\n",
        "\n",
        "plt.show()"
      ],
      "metadata": {
        "colab": {
          "base_uri": "https://localhost:8080/",
          "height": 314
        },
        "id": "O5EP2Ik6rl7f",
        "outputId": "5c1e5294-55ef-4080-f3c6-33b520f313de"
      },
      "execution_count": null,
      "outputs": [
        {
          "output_type": "display_data",
          "data": {
            "text/plain": [
              "<Figure size 1000x300 with 2 Axes>"
            ],
            "image/png": "[encoded data removed]"
          },
          "metadata": {}
        }
      ]
    },
    {
      "cell_type": "code",
      "source": [],
      "metadata": {
        "id": "11tglMQJcPQ1"
      },
      "execution_count": null,
      "outputs": []
    }
  ]
}