{
 "cells": [
  {
   "cell_type": "markdown",
   "metadata": {},
   "source": [
    "## Helper Functions"
   ]
  },
  {
   "cell_type": "code",
   "execution_count": 16,
   "metadata": {},
   "outputs": [
    {
     "name": "stdout",
     "output_type": "stream",
     "text": [
      "cpu\n"
     ]
    }
   ],
   "source": [
    "import pandas as pd\n",
    "\n",
    "from sklearn.model_selection import train_test_split\n",
    "from sklearn.ensemble import RandomForestRegressor\n",
    "from sklearn.metrics import mean_squared_error, r2_score, mean_absolute_error\n",
    "\n",
    "import torch\n",
    "import torch.nn as nn\n",
    "import torch.optim as optim\n",
    "from torch.utils.data import DataLoader, TensorDataset\n",
    "\n",
    "def get_Xy(df):\n",
    "   return df.drop('popularity', axis=1), df['popularity']\n",
    "\n",
    "def get_spotify(Xy=True, size=2000):\n",
    "    df = pd.read_csv(\"data/spotify.csv\")\n",
    "    df = df[['popularity', 'danceability', 'energy', 'loudness', 'tempo', 'valence', 'acousticness', 'instrumentalness', 'liveness', 'speechiness']]\n",
    "    df = df.dropna()\n",
    "    df = df.drop_duplicates()\n",
    "    df = df.sample(n=size).reset_index(drop=True)\n",
    "    if Xy:\n",
    "        return get_Xy(df)\n",
    "    return df\n",
    "\n",
    "def get_random_example(label_name='popularity', as_pandas=False):\n",
    "    '''\n",
    "    If not as_pandas:\n",
    "        Returns list(feature_names), list(feature_values), label_name, label_value\n",
    "    If as_pandas:\n",
    "        Returns features dataframe, label series\n",
    "    '''\n",
    "    raw_data = get_spotify(Xy=False)\n",
    "    sample = raw_data.sample(n=1)\n",
    "    if not as_pandas:\n",
    "        features = sample.drop(label_name, axis=1)\n",
    "        label = sample[label_name]\n",
    "        return list(features.columns), list(features.iloc[0]), label_name, float(label.values[0])\n",
    "    return sample.drop('popularity', axis=1), label_name, sample['popularity'].iloc[0]\n",
    "\n",
    "def get_data_loaders(X_train, X_test, y_train, y_test, batch_size=32):\n",
    "  # Convert to Tensors\n",
    "  X_train_tensor = torch.tensor(X_train.to_numpy(), dtype=torch.float32)\n",
    "  y_train_tensor = torch.tensor(y_train.values, dtype=torch.float32).view(-1, 1)\n",
    "  X_test_tensor = torch.tensor(X_test.to_numpy(), dtype=torch.float32)\n",
    "  y_test_tensor = torch.tensor(y_test.values, dtype=torch.float32).view(-1, 1)\n",
    "\n",
    "  # Create Datasets\n",
    "  train_dataset = TensorDataset(X_train_tensor, y_train_tensor)\n",
    "  test_dataset = TensorDataset(X_test_tensor, y_test_tensor)\n",
    "\n",
    "  # Create DataLoaders\n",
    "  train_loader = DataLoader(train_dataset, batch_size=batch_size, shuffle=True)\n",
    "  test_loader = DataLoader(test_dataset, batch_size=batch_size, shuffle=False)\n",
    "\n",
    "  return train_loader, test_loader\n",
    "\n",
    "def train_loop(train_loader, model, optimizer, criterion, device):\n",
    "  model.train()\n",
    "  epoch_train_loss = 0.0\n",
    "  for batch, labels in train_loader:\n",
    "    batch, labels = batch.to(device), labels.to(device)\n",
    "    optimizer.zero_grad()\n",
    "    # Forward Pass\n",
    "    outputs = model(batch)\n",
    "    loss = criterion(outputs, labels)\n",
    "    # Update Parameters\n",
    "    loss.backward()\n",
    "    optimizer.step()\n",
    "    # Save loss\n",
    "    epoch_train_loss += loss.item() * batch.size(0)\n",
    "  return epoch_train_loss / len(train_loader.dataset)\n",
    "\n",
    "def test_loop(test_loader, model, criterion, device):\n",
    "  model.eval()\n",
    "  epoch_test_loss = 0.0\n",
    "  with torch.no_grad():\n",
    "    for batch, labels in test_loader:\n",
    "      batch, labels = batch.to(device), labels.to(device)\n",
    "      # Calculate predictions\n",
    "      outputs = model(batch)\n",
    "      # Save loss\n",
    "      loss = criterion(outputs, labels)\n",
    "      epoch_test_loss += loss.item() * batch.size(0)\n",
    "  return epoch_test_loss / len(test_loader.dataset)\n",
    "\n",
    "device = torch.device('cuda' if torch.cuda.is_available() else 'cpu')\n",
    "print(device)"
   ]
  },
  {
   "cell_type": "markdown",
   "metadata": {},
   "source": [
    "## MLFlow Setup"
   ]
  },
  {
   "cell_type": "markdown",
   "metadata": {},
   "source": [
    "**Option 1**  \n",
    "`$ mlflow server --backend-store-uri sqlite:///mlflow.db --default-artifact-root ./mlruns --host 127.0.0.1 --port 5000`\n",
    "\n",
    "**Option 2**  \n",
    "`$ mlflow ui`"
   ]
  },
  {
   "cell_type": "code",
   "execution_count": 14,
   "metadata": {},
   "outputs": [
    {
     "name": "stdout",
     "output_type": "stream",
     "text": [
      "Requirement already satisfied: mlflow in /Users/michaelhammer/anaconda3/envs/basic_ml/lib/python3.11/site-packages (2.16.0)\n",
      "Requirement already satisfied: mlflow-skinny==2.16.0 in /Users/michaelhammer/anaconda3/envs/basic_ml/lib/python3.11/site-packages (from mlflow) (2.16.0)\n",
      "Requirement already satisfied: Flask<4 in /Users/michaelhammer/anaconda3/envs/basic_ml/lib/python3.11/site-packages (from mlflow) (3.0.3)\n",
      "Requirement already satisfied: alembic!=1.10.0,<2 in /Users/michaelhammer/anaconda3/envs/basic_ml/lib/python3.11/site-packages (from mlflow) (1.13.2)\n",
      "Requirement already satisfied: docker<8,>=4.0.0 in /Users/michaelhammer/anaconda3/envs/basic_ml/lib/python3.11/site-packages (from mlflow) (7.1.0)\n",
      "Requirement already satisfied: graphene<4 in /Users/michaelhammer/anaconda3/envs/basic_ml/lib/python3.11/site-packages (from mlflow) (3.3)\n",
      "Requirement already satisfied: markdown<4,>=3.3 in /Users/michaelhammer/anaconda3/envs/basic_ml/lib/python3.11/site-packages (from mlflow) (3.7)\n",
      "Requirement already satisfied: matplotlib<4 in /Users/michaelhammer/anaconda3/envs/basic_ml/lib/python3.11/site-packages (from mlflow) (3.7.2)\n",
      "Requirement already satisfied: numpy<3 in /Users/michaelhammer/anaconda3/envs/basic_ml/lib/python3.11/site-packages (from mlflow) (1.26.0)\n",
      "Requirement already satisfied: pandas<3 in /Users/michaelhammer/anaconda3/envs/basic_ml/lib/python3.11/site-packages (from mlflow) (2.0.3)\n",
      "Requirement already satisfied: pyarrow<18,>=4.0.0 in /Users/michaelhammer/anaconda3/envs/basic_ml/lib/python3.11/site-packages (from mlflow) (17.0.0)\n",
      "Requirement already satisfied: scikit-learn<2 in /Users/michaelhammer/anaconda3/envs/basic_ml/lib/python3.11/site-packages (from mlflow) (1.2.2)\n",
      "Requirement already satisfied: scipy<2 in /Users/michaelhammer/anaconda3/envs/basic_ml/lib/python3.11/site-packages (from mlflow) (1.11.3)\n",
      "Requirement already satisfied: sqlalchemy<3,>=1.4.0 in /Users/michaelhammer/anaconda3/envs/basic_ml/lib/python3.11/site-packages (from mlflow) (2.0.32)\n",
      "Requirement already satisfied: Jinja2<4,>=2.11 in /Users/michaelhammer/anaconda3/envs/basic_ml/lib/python3.11/site-packages (from mlflow) (3.1.4)\n",
      "Requirement already satisfied: gunicorn<24 in /Users/michaelhammer/anaconda3/envs/basic_ml/lib/python3.11/site-packages (from mlflow) (23.0.0)\n",
      "Requirement already satisfied: cachetools<6,>=5.0.0 in /Users/michaelhammer/anaconda3/envs/basic_ml/lib/python3.11/site-packages (from mlflow-skinny==2.16.0->mlflow) (5.5.0)\n",
      "Requirement already satisfied: click<9,>=7.0 in /Users/michaelhammer/anaconda3/envs/basic_ml/lib/python3.11/site-packages (from mlflow-skinny==2.16.0->mlflow) (8.1.7)\n",
      "Requirement already satisfied: cloudpickle<4 in /Users/michaelhammer/anaconda3/envs/basic_ml/lib/python3.11/site-packages (from mlflow-skinny==2.16.0->mlflow) (3.0.0)\n",
      "Requirement already satisfied: databricks-sdk<1,>=0.20.0 in /Users/michaelhammer/anaconda3/envs/basic_ml/lib/python3.11/site-packages (from mlflow-skinny==2.16.0->mlflow) (0.31.1)\n",
      "Requirement already satisfied: gitpython<4,>=3.1.9 in /Users/michaelhammer/anaconda3/envs/basic_ml/lib/python3.11/site-packages (from mlflow-skinny==2.16.0->mlflow) (3.1.43)\n",
      "Requirement already satisfied: importlib-metadata!=4.7.0,<9,>=3.7.0 in /Users/michaelhammer/anaconda3/envs/basic_ml/lib/python3.11/site-packages (from mlflow-skinny==2.16.0->mlflow) (8.4.0)\n",
      "Requirement already satisfied: opentelemetry-api<3,>=1.9.0 in /Users/michaelhammer/anaconda3/envs/basic_ml/lib/python3.11/site-packages (from mlflow-skinny==2.16.0->mlflow) (1.27.0)\n",
      "Requirement already satisfied: opentelemetry-sdk<3,>=1.9.0 in /Users/michaelhammer/anaconda3/envs/basic_ml/lib/python3.11/site-packages (from mlflow-skinny==2.16.0->mlflow) (1.27.0)\n",
      "Requirement already satisfied: packaging<25 in /Users/michaelhammer/anaconda3/envs/basic_ml/lib/python3.11/site-packages (from mlflow-skinny==2.16.0->mlflow) (23.1)\n",
      "Requirement already satisfied: protobuf<6,>=3.12.0 in /Users/michaelhammer/anaconda3/envs/basic_ml/lib/python3.11/site-packages (from mlflow-skinny==2.16.0->mlflow) (5.28.0)\n",
      "Requirement already satisfied: pyyaml<7,>=5.1 in /Users/michaelhammer/anaconda3/envs/basic_ml/lib/python3.11/site-packages (from mlflow-skinny==2.16.0->mlflow) (6.0.2)\n",
      "Requirement already satisfied: requests<3,>=2.17.3 in /Users/michaelhammer/anaconda3/envs/basic_ml/lib/python3.11/site-packages (from mlflow-skinny==2.16.0->mlflow) (2.32.3)\n",
      "Requirement already satisfied: sqlparse<1,>=0.4.0 in /Users/michaelhammer/anaconda3/envs/basic_ml/lib/python3.11/site-packages (from mlflow-skinny==2.16.0->mlflow) (0.5.1)\n",
      "Requirement already satisfied: Mako in /Users/michaelhammer/anaconda3/envs/basic_ml/lib/python3.11/site-packages (from alembic!=1.10.0,<2->mlflow) (1.3.5)\n",
      "Requirement already satisfied: typing-extensions>=4 in /Users/michaelhammer/anaconda3/envs/basic_ml/lib/python3.11/site-packages (from alembic!=1.10.0,<2->mlflow) (4.12.2)\n",
      "Requirement already satisfied: urllib3>=1.26.0 in /Users/michaelhammer/anaconda3/envs/basic_ml/lib/python3.11/site-packages (from docker<8,>=4.0.0->mlflow) (2.2.2)\n",
      "Requirement already satisfied: Werkzeug>=3.0.0 in /Users/michaelhammer/anaconda3/envs/basic_ml/lib/python3.11/site-packages (from Flask<4->mlflow) (3.0.4)\n",
      "Requirement already satisfied: itsdangerous>=2.1.2 in /Users/michaelhammer/anaconda3/envs/basic_ml/lib/python3.11/site-packages (from Flask<4->mlflow) (2.2.0)\n",
      "Requirement already satisfied: blinker>=1.6.2 in /Users/michaelhammer/anaconda3/envs/basic_ml/lib/python3.11/site-packages (from Flask<4->mlflow) (1.8.2)\n",
      "Requirement already satisfied: graphql-core<3.3,>=3.1 in /Users/michaelhammer/anaconda3/envs/basic_ml/lib/python3.11/site-packages (from graphene<4->mlflow) (3.2.3)\n",
      "Requirement already satisfied: graphql-relay<3.3,>=3.1 in /Users/michaelhammer/anaconda3/envs/basic_ml/lib/python3.11/site-packages (from graphene<4->mlflow) (3.2.0)\n",
      "Requirement already satisfied: aniso8601<10,>=8 in /Users/michaelhammer/anaconda3/envs/basic_ml/lib/python3.11/site-packages (from graphene<4->mlflow) (9.0.1)\n",
      "Requirement already satisfied: MarkupSafe>=2.0 in /Users/michaelhammer/anaconda3/envs/basic_ml/lib/python3.11/site-packages (from Jinja2<4,>=2.11->mlflow) (2.1.5)\n",
      "Requirement already satisfied: contourpy>=1.0.1 in /Users/michaelhammer/anaconda3/envs/basic_ml/lib/python3.11/site-packages (from matplotlib<4->mlflow) (1.0.5)\n",
      "Requirement already satisfied: cycler>=0.10 in /Users/michaelhammer/anaconda3/envs/basic_ml/lib/python3.11/site-packages (from matplotlib<4->mlflow) (0.11.0)\n",
      "Requirement already satisfied: fonttools>=4.22.0 in /Users/michaelhammer/anaconda3/envs/basic_ml/lib/python3.11/site-packages (from matplotlib<4->mlflow) (4.25.0)\n",
      "Requirement already satisfied: kiwisolver>=1.0.1 in /Users/michaelhammer/anaconda3/envs/basic_ml/lib/python3.11/site-packages (from matplotlib<4->mlflow) (1.4.4)\n",
      "Requirement already satisfied: pillow>=6.2.0 in /Users/michaelhammer/anaconda3/envs/basic_ml/lib/python3.11/site-packages (from matplotlib<4->mlflow) (10.0.1)\n",
      "Requirement already satisfied: pyparsing<3.1,>=2.3.1 in /Users/michaelhammer/anaconda3/envs/basic_ml/lib/python3.11/site-packages (from matplotlib<4->mlflow) (3.0.9)\n",
      "Requirement already satisfied: python-dateutil>=2.7 in /Users/michaelhammer/anaconda3/envs/basic_ml/lib/python3.11/site-packages (from matplotlib<4->mlflow) (2.8.2)\n",
      "Requirement already satisfied: pytz>=2020.1 in /Users/michaelhammer/anaconda3/envs/basic_ml/lib/python3.11/site-packages (from pandas<3->mlflow) (2023.3.post1)\n",
      "Requirement already satisfied: tzdata>=2022.1 in /Users/michaelhammer/anaconda3/envs/basic_ml/lib/python3.11/site-packages (from pandas<3->mlflow) (2023.3)\n",
      "Requirement already satisfied: joblib>=1.1.1 in /Users/michaelhammer/anaconda3/envs/basic_ml/lib/python3.11/site-packages (from scikit-learn<2->mlflow) (1.2.0)\n",
      "Requirement already satisfied: threadpoolctl>=2.0.0 in /Users/michaelhammer/anaconda3/envs/basic_ml/lib/python3.11/site-packages (from scikit-learn<2->mlflow) (2.2.0)\n",
      "Requirement already satisfied: google-auth~=2.0 in /Users/michaelhammer/anaconda3/envs/basic_ml/lib/python3.11/site-packages (from databricks-sdk<1,>=0.20.0->mlflow-skinny==2.16.0->mlflow) (2.34.0)\n",
      "Requirement already satisfied: gitdb<5,>=4.0.1 in /Users/michaelhammer/anaconda3/envs/basic_ml/lib/python3.11/site-packages (from gitpython<4,>=3.1.9->mlflow-skinny==2.16.0->mlflow) (4.0.11)\n",
      "Requirement already satisfied: zipp>=0.5 in /Users/michaelhammer/anaconda3/envs/basic_ml/lib/python3.11/site-packages (from importlib-metadata!=4.7.0,<9,>=3.7.0->mlflow-skinny==2.16.0->mlflow) (3.20.1)\n",
      "Requirement already satisfied: deprecated>=1.2.6 in /Users/michaelhammer/anaconda3/envs/basic_ml/lib/python3.11/site-packages (from opentelemetry-api<3,>=1.9.0->mlflow-skinny==2.16.0->mlflow) (1.2.14)\n",
      "Requirement already satisfied: opentelemetry-semantic-conventions==0.48b0 in /Users/michaelhammer/anaconda3/envs/basic_ml/lib/python3.11/site-packages (from opentelemetry-sdk<3,>=1.9.0->mlflow-skinny==2.16.0->mlflow) (0.48b0)\n",
      "Requirement already satisfied: six>=1.5 in /Users/michaelhammer/anaconda3/envs/basic_ml/lib/python3.11/site-packages (from python-dateutil>=2.7->matplotlib<4->mlflow) (1.16.0)\n",
      "Requirement already satisfied: charset-normalizer<4,>=2 in /Users/michaelhammer/anaconda3/envs/basic_ml/lib/python3.11/site-packages (from requests<3,>=2.17.3->mlflow-skinny==2.16.0->mlflow) (3.3.2)\n",
      "Requirement already satisfied: idna<4,>=2.5 in /Users/michaelhammer/anaconda3/envs/basic_ml/lib/python3.11/site-packages (from requests<3,>=2.17.3->mlflow-skinny==2.16.0->mlflow) (3.8)\n",
      "Requirement already satisfied: certifi>=2017.4.17 in /Users/michaelhammer/anaconda3/envs/basic_ml/lib/python3.11/site-packages (from requests<3,>=2.17.3->mlflow-skinny==2.16.0->mlflow) (2023.11.17)\n",
      "Requirement already satisfied: wrapt<2,>=1.10 in /Users/michaelhammer/anaconda3/envs/basic_ml/lib/python3.11/site-packages (from deprecated>=1.2.6->opentelemetry-api<3,>=1.9.0->mlflow-skinny==2.16.0->mlflow) (1.16.0)\n",
      "Requirement already satisfied: smmap<6,>=3.0.1 in /Users/michaelhammer/anaconda3/envs/basic_ml/lib/python3.11/site-packages (from gitdb<5,>=4.0.1->gitpython<4,>=3.1.9->mlflow-skinny==2.16.0->mlflow) (5.0.1)\n",
      "Requirement already satisfied: pyasn1-modules>=0.2.1 in /Users/michaelhammer/anaconda3/envs/basic_ml/lib/python3.11/site-packages (from google-auth~=2.0->databricks-sdk<1,>=0.20.0->mlflow-skinny==2.16.0->mlflow) (0.4.0)\n",
      "Requirement already satisfied: rsa<5,>=3.1.4 in /Users/michaelhammer/anaconda3/envs/basic_ml/lib/python3.11/site-packages (from google-auth~=2.0->databricks-sdk<1,>=0.20.0->mlflow-skinny==2.16.0->mlflow) (4.9)\n",
      "Requirement already satisfied: pyasn1<0.7.0,>=0.4.6 in /Users/michaelhammer/anaconda3/envs/basic_ml/lib/python3.11/site-packages (from pyasn1-modules>=0.2.1->google-auth~=2.0->databricks-sdk<1,>=0.20.0->mlflow-skinny==2.16.0->mlflow) (0.6.0)\n"
     ]
    }
   ],
   "source": [
    "!pip install mlflow"
   ]
  },
  {
   "cell_type": "markdown",
   "metadata": {},
   "source": [
    "## Simple Sklearn Experiment"
   ]
  },
  {
   "cell_type": "code",
   "execution_count": 17,
   "metadata": {},
   "outputs": [],
   "source": [
    "import mlflow\n",
    "mlflow.set_tracking_uri(\"http://127.0.0.1:5000\")"
   ]
  },
  {
   "cell_type": "code",
   "execution_count": 35,
   "metadata": {},
   "outputs": [
    {
     "name": "stderr",
     "output_type": "stream",
     "text": [
      "2024/09/03 21:27:36 INFO mlflow.tracking._tracking_service.client: 🏃 View run enchanting-gnat-619 at: http://127.0.0.1:5000/#/experiments/1/runs/afbd09651ad843e896c43a57ddf53c03.\n",
      "2024/09/03 21:27:36 INFO mlflow.tracking._tracking_service.client: 🧪 View experiment at: http://127.0.0.1:5000/#/experiments/1.\n"
     ]
    }
   ],
   "source": [
    "mlflow.set_experiment(\"Simple-Sklearn-Experiment\")\n",
    "with mlflow.start_run():\n",
    "    # Get Data\n",
    "    data = get_spotify(Xy=False)\n",
    "    X,y = get_Xy(data)\n",
    "    X_train, X_test, y_train, y_test = train_test_split(X, y, test_size=0.2, random_state=42)\n",
    "\n",
    "    # Train Model\n",
    "    n_estimators = 100\n",
    "    max_depth = 20\n",
    "    model = RandomForestRegressor(n_estimators=n_estimators, max_depth=20, random_state=42)\n",
    "    model.fit(X_train, y_train)\n",
    "    y_pred = model.predict(X_test)\n",
    "\n",
    "    # Log Parameters\n",
    "    mlflow.log_param(\"model_type\", \"Random Forest Regressor\")\n",
    "    mlflow.log_param(\"n_estimators\", n_estimators)\n",
    "    mlflow.log_param(\"max_depth\", max_depth)\n",
    "\n",
    "    # Log Metrics\n",
    "    mse = mean_squared_error(y_test, y_pred)\n",
    "    rmse = mse ** 0.5\n",
    "    r2 = r2_score(y_test, y_pred)\n",
    "    mae = mean_absolute_error(y_test, y_pred)\n",
    "    mlflow.log_metric(\"mse\", mse)\n",
    "    mlflow.log_metric(\"rmse\", rmse)\n",
    "    mlflow.log_metric(\"r2\", r2)\n",
    "    mlflow.log_metric(\"mae\", mae)\n",
    "\n",
    "    # Log Model\n",
    "    mlflow.sklearn.log_model(\n",
    "        sk_model=model, \n",
    "        artifact_path=\"spotify_model\",\n",
    "        input_example=X_train,\n",
    "    )\n",
    "    \n",
    "    # Log Dataset\n",
    "    data.to_csv(\"data/data.csv\", index=False)\n",
    "    mlflow.log_artifact(\"data/data.csv\", artifact_path=\"datasets\")"
   ]
  },
  {
   "cell_type": "markdown",
   "metadata": {},
   "source": [
    "## Simple PyTorch Experiment"
   ]
  },
  {
   "cell_type": "code",
   "execution_count": 34,
   "metadata": {},
   "outputs": [
    {
     "name": "stdout",
     "output_type": "stream",
     "text": [
      "[Epoch 1/5] TrainLoss: 518.36; TestLoss: 472.60\n",
      "[Epoch 2/5] TrainLoss: 475.30; TestLoss: 456.23\n",
      "[Epoch 3/5] TrainLoss: 462.22; TestLoss: 444.70\n",
      "[Epoch 4/5] TrainLoss: 453.72; TestLoss: 436.64\n",
      "[Epoch 5/5] TrainLoss: 445.52; TestLoss: 424.86\n"
     ]
    },
    {
     "name": "stderr",
     "output_type": "stream",
     "text": [
      "2024/09/03 21:26:25 WARNING mlflow.models.model: Model logged without a signature and input example. Please set `input_example` parameter when logging the model to auto infer the model signature.\n",
      "2024/09/03 21:26:25 INFO mlflow.tracking._tracking_service.client: 🏃 View run calm-auk-934 at: http://127.0.0.1:5000/#/experiments/2/runs/c0b376036438422987253c51b6e08d52.\n",
      "2024/09/03 21:26:25 INFO mlflow.tracking._tracking_service.client: 🧪 View experiment at: http://127.0.0.1:5000/#/experiments/2.\n"
     ]
    }
   ],
   "source": [
    "mlflow.set_experiment(\"Simple-PyTorch-Experiment\")\n",
    "with mlflow.start_run():\n",
    "  # Get Data\n",
    "  X, y = get_spotify(size=20000)\n",
    "  X_train, X_test, y_train, y_test = train_test_split(X, y, test_size=0.2, random_state=42)\n",
    "  train_loader, test_loader = get_data_loaders(X_train, X_test, y_train, y_test)\n",
    "\n",
    "  # Define Simple PyTorch Model\n",
    "  model = nn.Sequential(\n",
    "      nn.Linear(len(X_train.columns), 32),\n",
    "      nn.ReLU(),\n",
    "      nn.Dropout(0.5),\n",
    "      nn.Linear(32, 32),\n",
    "      nn.ReLU(),       \n",
    "      nn.Linear(32, 1)\n",
    "  ).to(device)\n",
    "\n",
    "  # Setup Training\n",
    "  num_epochs = 5\n",
    "  learning_rate = 0.001\n",
    "  criterion = nn.MSELoss()\n",
    "  optimizer = optim.Adam(model.parameters(), lr=learning_rate)\n",
    "\n",
    "  # Log Parameters\n",
    "  mlflow.log_param(\"num_epochs\", num_epochs)\n",
    "  mlflow.log_param(\"learning_rate\", learning_rate)\n",
    "  mlflow.log_param(\"criterion\", 'MSELoss')\n",
    "  mlflow.log_param(\"optimizer\", 'Adam')\n",
    "\n",
    "  # Training/Validation Loop\n",
    "  for epoch in range(num_epochs):\n",
    "    train_loss = train_loop(train_loader, model, optimizer, criterion, device)\n",
    "    test_loss = train_loop(test_loader, model, optimizer, criterion, device)\n",
    "\n",
    "    # Log Metrics\n",
    "    mlflow.log_metric(\"train_loss\", train_loss, step=epoch)\n",
    "    mlflow.log_metric(\"test_loss\", test_loss, step=epoch)\n",
    "    \n",
    "    print(f\"[Epoch {epoch+1}/{num_epochs}] TrainLoss: {train_loss:.2f}; TestLoss: {test_loss:.2f}\")\n",
    "  \n",
    "  # Log model\n",
    "  mlflow.pytorch.log_model(model, \"model\")"
   ]
  },
  {
   "cell_type": "markdown",
   "metadata": {},
   "source": [
    "## Register the Model\n",
    "1. In the UI, find the run with the model\n",
    "2. Click \"Register Model\"\n"
   ]
  },
  {
   "cell_type": "markdown",
   "metadata": {},
   "source": [
    "## Predictions (Productionize)"
   ]
  },
  {
   "cell_type": "markdown",
   "metadata": {},
   "source": [
    "### Simple Load a Model"
   ]
  },
  {
   "cell_type": "code",
   "execution_count": 30,
   "metadata": {},
   "outputs": [
    {
     "name": "stdout",
     "output_type": "stream",
     "text": [
      "[popularity] y_true=15; y_pred=30.00\n"
     ]
    }
   ],
   "source": [
    "model_name = \"Spotify\"\n",
    "# model_uri = f\"models:/{model_name}/1\"\n",
    "# model_uri = f\"models:/{model_name}/latest\"\n",
    "model_uri = f\"models:/{model_name}@champion\"\n",
    "# model_uri = f\"runs:/{mlflow_run_id}/{run_relative_path_to_model}\" # you can load from a run\n",
    "model = mlflow.sklearn.load_model(model_uri)\n",
    "\n",
    "x, label_name, y_true = get_random_example(as_pandas=True)\n",
    "y_pred = model.predict(x)[0]\n",
    "print(f\"[{label_name}] y_true={y_true}; y_pred={y_pred:.2f}\")"
   ]
  },
  {
   "cell_type": "markdown",
   "metadata": {},
   "source": [
    "### Serve the Model Using MLFlow\n",
    "\n",
    "`$ mlflow models serve -m mlartifacts/418269113200786049/0f2dbf69a8ab435093d6da9daab43109/artifacts/pokemon_hp_model --port 5001`\n",
    "\n",
    "`mlflow models serve -m \"models:/Spotify@champion\" -p 5001 --host 127.0.0.1`\n",
    "\n",
    "`export MLFLOW_TRACKING_URI=http://127.0.0.1:5000`"
   ]
  },
  {
   "cell_type": "code",
   "execution_count": 31,
   "metadata": {},
   "outputs": [],
   "source": [
    "import requests\n",
    "import json\n",
    "\n",
    "def predict(feature_names, feature_values, base_url=\"http://127.0.0.1:5001\"):\n",
    "    url = f\"{base_url}/invocations\"\n",
    "    data = {\n",
    "        \"dataframe_split\": {\n",
    "            \"columns\": feature_names,\n",
    "            \"data\": [feature_values]\n",
    "        }\n",
    "    }\n",
    "    response = requests.post(url, data=json.dumps(data), headers={\"Content-Type\": \"application/json\"})\n",
    "    return response.json()['predictions'][0]"
   ]
  },
  {
   "cell_type": "code",
   "execution_count": 33,
   "metadata": {},
   "outputs": [
    {
     "name": "stdout",
     "output_type": "stream",
     "text": [
      "[popularity] y_true=20.0; y_pred=31.98\n"
     ]
    }
   ],
   "source": [
    "feature_names, feature_values, label_name, label_value = get_random_example()\n",
    "prediction = predict(feature_names, feature_values)\n",
    "print(f\"[{label_name}] y_true={label_value}; y_pred={prediction:.2f}\")"
   ]
  },
  {
   "cell_type": "markdown",
   "metadata": {},
   "source": [
    "### Serve the Model with Docker"
   ]
  },
  {
   "cell_type": "markdown",
   "metadata": {},
   "source": [
    "Make sure docker is running on your local computer.\n",
    "\n",
    "`$ mlflow models build-docker -m models:/Spotify@champion -n my_ml_model`\n",
    "\n",
    "`docker run -p 5002:8080 my_ml_model`"
   ]
  },
  {
   "cell_type": "code",
   "execution_count": 102,
   "metadata": {},
   "outputs": [
    {
     "name": "stdout",
     "output_type": "stream",
     "text": [
      "[popularity] y_true=47.0; y_pred=29.39\n"
     ]
    }
   ],
   "source": [
    "feature_names, feature_values, label_name, label_value = get_random_example()\n",
    "prediction = predict(feature_names, feature_values, base_url=\"http://127.0.0.1:5002\")\n",
    "print(f\"[{label_name}] y_true={label_value}; y_pred={prediction:.2f}\")"
   ]
  },
  {
   "cell_type": "code",
   "execution_count": null,
   "metadata": {},
   "outputs": [],
   "source": []
  }
 ],
 "metadata": {
  "kernelspec": {
   "display_name": "basic_ml",
   "language": "python",
   "name": "python3"
  },
  "language_info": {
   "codemirror_mode": {
    "name": "ipython",
    "version": 3
   },
   "file_extension": ".py",
   "mimetype": "text/x-python",
   "name": "python",
   "nbconvert_exporter": "python",
   "pygments_lexer": "ipython3",
   "version": "3.11.5"
  }
 },
 "nbformat": 4,
 "nbformat_minor": 2
}
